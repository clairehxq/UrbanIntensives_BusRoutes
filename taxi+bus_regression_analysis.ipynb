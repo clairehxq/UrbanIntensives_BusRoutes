{
 "cells": [
  {
   "cell_type": "code",
   "execution_count": 1,
   "metadata": {
    "collapsed": false
   },
   "outputs": [
    {
     "name": "stdout",
     "output_type": "stream",
     "text": [
      "Populating the interactive namespace from numpy and matplotlib\n"
     ]
    }
   ],
   "source": [
    "import pandas as pd\n",
    "import sklearn \n",
    "from sklearn import cluster\n",
    "import matplotlib\n",
    "import geopandas as gpd\n",
    "from sklearn.linear_model import LinearRegression\n",
    "%pylab inline\n"
   ]
  },
  {
   "cell_type": "code",
   "execution_count": 2,
   "metadata": {
    "collapsed": false
   },
   "outputs": [],
   "source": [
    "# dropout location clustering\n",
    "'''\n",
    "data_directory = 'q113_pickup_sample_ct.csv'\n",
    "data = pd.read_csv(data_directory)\n",
    "gp_data = data.groupby('dropoff').count()\n",
    "\n",
    "gp_data = gp_data.reset_index(drop = False).iloc[:,:2]\n",
    "gp_data.columns = ['ct', 'count']\n",
    "\n",
    "gp_data.head()\n",
    "'''"
   ]
  },
  {
   "cell_type": "code",
   "execution_count": 60,
   "metadata": {
    "collapsed": false
   },
   "outputs": [],
   "source": [
    "# cluster model\n",
    "'''\n",
    "kmeans = cluster.KMeans(n_clusters= 4)\n",
    "label = kmeans.fit_predict(gp_data)\n",
    "'''"
   ]
  },
  {
   "cell_type": "code",
   "execution_count": 207,
   "metadata": {
    "collapsed": true
   },
   "outputs": [],
   "source": [
    "# loading taxi & bus data\n",
    "taxi_ts = 'timeseries/taxi_timeseries.csv'\n",
    "bus_ts = 'timeseries/bus_timeseries.csv'\n",
    "\n",
    "taxi_ts = pd.read_csv(taxi_ts)\n",
    "bus_ts = pd.read_csv(bus_ts)\n",
    "\n",
    "taxi_ts['monthyear'] = taxi_ts.month.apply(str ) + taxi_ts.year.apply(str)"
   ]
  },
  {
   "cell_type": "code",
   "execution_count": 209,
   "metadata": {
    "collapsed": true
   },
   "outputs": [],
   "source": [
    "# linear regression\n",
    "x = range(len(taxi_ts))\n",
    "\n",
    "intercept = []\n",
    "slope = []\n",
    "for bus in taxi_ts.columns[2:6]:\n",
    "    lr = LinearRegression(fit_intercept=True)\n",
    "    lr.fit(pd.DataFrame(x), pd.DataFrame(taxi_ts.loc[:,bus]))\n",
    "    slope.append(lr.coef_[0][0])\n",
    "    intercept.append(lr.intercept_[0])"
   ]
  },
  {
   "cell_type": "code",
   "execution_count": 210,
   "metadata": {
    "collapsed": false
   },
   "outputs": [
    {
     "data": {
      "text/html": [
       "<div>\n",
       "<table border=\"1\" class=\"dataframe\">\n",
       "  <thead>\n",
       "    <tr style=\"text-align: right;\">\n",
       "      <th></th>\n",
       "      <th>bus</th>\n",
       "      <th>slope</th>\n",
       "      <th>intercept</th>\n",
       "    </tr>\n",
       "  </thead>\n",
       "  <tbody>\n",
       "    <tr>\n",
       "      <th>0</th>\n",
       "      <td>q65</td>\n",
       "      <td>2981.72</td>\n",
       "      <td>38513.6</td>\n",
       "    </tr>\n",
       "    <tr>\n",
       "      <th>1</th>\n",
       "      <td>bx15</td>\n",
       "      <td>8622.03</td>\n",
       "      <td>140334</td>\n",
       "    </tr>\n",
       "    <tr>\n",
       "      <th>2</th>\n",
       "      <td>b41</td>\n",
       "      <td>8977.6</td>\n",
       "      <td>20974.9</td>\n",
       "    </tr>\n",
       "    <tr>\n",
       "      <th>3</th>\n",
       "      <td>q113</td>\n",
       "      <td>418.922</td>\n",
       "      <td>2143.74</td>\n",
       "    </tr>\n",
       "  </tbody>\n",
       "</table>\n",
       "</div>"
      ],
      "text/plain": [
       "    bus    slope intercept\n",
       "0   q65  2981.72   38513.6\n",
       "1  bx15  8622.03    140334\n",
       "2   b41   8977.6   20974.9\n",
       "3  q113  418.922   2143.74"
      ]
     },
     "execution_count": 210,
     "metadata": {},
     "output_type": "execute_result"
    }
   ],
   "source": [
    "# linear regression result\n",
    "regression_res = pd.DataFrame([taxi_ts.columns[2:6], slope, intercept]).T\n",
    "\n",
    "regression_res.columns = ['bus', 'slope', 'intercept']\n",
    "regression_res"
   ]
  },
  {
   "cell_type": "code",
   "execution_count": 211,
   "metadata": {
    "collapsed": false
   },
   "outputs": [
    {
     "data": {
      "text/html": [
       "<div>\n",
       "<table border=\"1\" class=\"dataframe\">\n",
       "  <thead>\n",
       "    <tr style=\"text-align: right;\">\n",
       "      <th>bus</th>\n",
       "      <th>q113</th>\n",
       "      <th>b41</th>\n",
       "      <th>q65</th>\n",
       "      <th>bx15</th>\n",
       "    </tr>\n",
       "  </thead>\n",
       "  <tbody>\n",
       "    <tr>\n",
       "      <th>2013</th>\n",
       "      <td>11745</td>\n",
       "      <td>32431</td>\n",
       "      <td>20227</td>\n",
       "      <td>26235</td>\n",
       "    </tr>\n",
       "    <tr>\n",
       "      <th>2014</th>\n",
       "      <td>9019</td>\n",
       "      <td>30701</td>\n",
       "      <td>20685</td>\n",
       "      <td>32328</td>\n",
       "    </tr>\n",
       "    <tr>\n",
       "      <th>2015</th>\n",
       "      <td>4537</td>\n",
       "      <td>28690</td>\n",
       "      <td>21080</td>\n",
       "      <td>30687</td>\n",
       "    </tr>\n",
       "  </tbody>\n",
       "</table>\n",
       "</div>"
      ],
      "text/plain": [
       "bus    q113    b41    q65   bx15\n",
       "2013  11745  32431  20227  26235\n",
       "2014   9019  30701  20685  32328\n",
       "2015   4537  28690  21080  30687"
      ]
     },
     "execution_count": 211,
     "metadata": {},
     "output_type": "execute_result"
    }
   ],
   "source": [
    "# bus data\n",
    "bus_ts = bus_ts.T\n",
    "bus_ts.columns = bus_ts.iloc[0,:]\n",
    "bus_ts = bus_ts.iloc[1:,:]\n",
    "\n",
    "bus_ts.iloc[:,0] = bus_ts.iloc[:,0].apply(lambda x: int(x.split(',')[0] + x.split(',')[1]))\n",
    "bus_ts.iloc[:,1] = bus_ts.iloc[:,1].apply(lambda x: int(x.split(',')[0] + x.split(',')[1]))\n",
    "bus_ts.iloc[:,2] = bus_ts.iloc[:,2].apply(lambda x: int(x.split(',')[0] + x.split(',')[1]))\n",
    "bus_ts.iloc[:,3] = bus_ts.iloc[:,3].apply(lambda x: int(x.split(',')[0] + x.split(',')[1]))\n",
    "\n",
    "bus_ts"
   ]
  },
  {
   "cell_type": "code",
   "execution_count": 212,
   "metadata": {
    "collapsed": false
   },
   "outputs": [],
   "source": [
    "# months number in each year \n",
    "yr_13 = len(taxi_ts[taxi_ts.year == 2013])\n",
    "yr_14 = len(taxi_ts[taxi_ts.year == 2014])\n",
    "yr_15 = len(taxi_ts[taxi_ts.year == 2015])"
   ]
  },
  {
   "cell_type": "code",
   "execution_count": 256,
   "metadata": {
    "collapsed": false,
    "scrolled": true
   },
   "outputs": [
    {
     "data": {
      "image/png": "[encoded data removed]",
      "text/plain": [
       "<matplotlib.figure.Figure at 0x1217d1190>"
      ]
     },
     "metadata": {},
     "output_type": "display_data"
    }
   ],
   "source": [
    "plt.figure(figsize = [5,5])\n",
    "x_plot = np.linspace(0, 28, 1000)\n",
    "y_plot = regression_res.slope[0] * x_plot + regression_res.intercept[0]\n",
    "plt.plot(x_plot, y_plot, label = 'taxi')\n",
    "plt.scatter(x, taxi_ts.q65, s = 10)\n",
    "plt.plot(np.linspace(0, yr_13, 200), [bus_ts.loc['2013', 'q65'] * 30] * 200, color = 'r', label = 'bus')\n",
    "plt.plot(np.linspace(yr_13, yr_13 + yr_14, 200), [bus_ts.loc['2014', 'q65'] * 30] * 200, color = 'r')\n",
    "plt.plot(np.linspace(yr_13 + yr_14, yr_13 + yr_14 + yr_15, 200), [bus_ts.loc['2015', 'q65'] * 30] * 200, color = 'r')\n",
    "\n",
    "#plt.xlim(0,30)\n",
    "plt.xticks([])\n",
    "plt.legend()\n",
    "plt.title('data on bus route Q65')\n",
    "plt.savefig('q65')"
   ]
  },
  {
   "cell_type": "code",
   "execution_count": 255,
   "metadata": {
    "collapsed": false
   },
   "outputs": [
    {
     "data": {
      "image/png": "[encoded data removed]",
      "text/plain": [
       "<matplotlib.figure.Figure at 0x1209cc310>"
      ]
     },
     "metadata": {},
     "output_type": "display_data"
    }
   ],
   "source": [
    "plt.figure(figsize = [5,5])\n",
    "x_plot = np.linspace(0, 28, 1000)\n",
    "y_plot = regression_res.slope[1] * x_plot + regression_res.intercept[1]\n",
    "plt.plot(x_plot, y_plot, label = 'taxi')\n",
    "plt.scatter(x, taxi_ts.bx15, s = 10)\n",
    "plt.plot(np.linspace(0, yr_13, 200), [bus_ts.loc['2013', 'bx15'] * 30] * 200, color = 'r', label = 'bus')\n",
    "plt.plot(np.linspace(yr_13, yr_13 + yr_14, 200), [bus_ts.loc['2014', 'bx15'] * 30] * 200, color = 'r')\n",
    "plt.plot(np.linspace(yr_13 + yr_14, yr_13 + yr_14 + yr_15, 200), [bus_ts.loc['2015', 'bx15'] * 30] * 200, color = 'r')\n",
    "\n",
    "#plt.xlim(0,30)\n",
    "plt.xticks([])\n",
    "plt.legend()\n",
    "plt.title('data on bus route BX15')\n",
    "plt.savefig('bx15')"
   ]
  },
  {
   "cell_type": "code",
   "execution_count": 257,
   "metadata": {
    "collapsed": false
   },
   "outputs": [
    {
     "data": {
      "image/png": "[encoded data removed]",
      "text/plain": [
       "<matplotlib.figure.Figure at 0x120b12750>"
      ]
     },
     "metadata": {},
     "output_type": "display_data"
    }
   ],
   "source": [
    "plt.figure(figsize = [5,5])\n",
    "x_plot = np.linspace(0, 28, 1000)\n",
    "y_plot = regression_res.slope[2] * x_plot + regression_res.intercept[2]\n",
    "plt.plot(x_plot, y_plot, label = 'taxi')\n",
    "plt.scatter(x, taxi_ts.b41, s = 10)\n",
    "plt.plot(np.linspace(0, yr_13, 200), [bus_ts.loc['2013', 'b41'] * 30] * 200, color = 'r', label = 'bus')\n",
    "plt.plot(np.linspace(yr_13, yr_13 + yr_14, 200), [bus_ts.loc['2014', 'b41'] * 30] * 200, color = 'r')\n",
    "plt.plot(np.linspace(yr_13 + yr_14, yr_13 + yr_14 + yr_15, 200), [bus_ts.loc['2015', 'b41'] * 30] * 200, color = 'r')\n",
    "\n",
    "#plt.xlim(0,30)\n",
    "plt.xticks([])\n",
    "plt.legend()\n",
    "plt.title('data on bus route b41')\n",
    "plt.savefig('B41')"
   ]
  },
  {
   "cell_type": "code",
   "execution_count": 258,
   "metadata": {
    "collapsed": false
   },
   "outputs": [
    {
     "data": {
      "image/png": "[encoded data removed]",
      "text/plain": [
       "<matplotlib.figure.Figure at 0x121c2b390>"
      ]
     },
     "metadata": {},
     "output_type": "display_data"
    }
   ],
   "source": [
    "plt.figure(figsize = [5,5])\n",
    "x_plot = np.linspace(0, 28, 1000)\n",
    "y_plot = regression_res.slope[3] * x_plot + regression_res.intercept[3]\n",
    "plt.plot(x_plot, y_plot, label = 'taxi')\n",
    "plt.scatter(x, taxi_ts.q113, s = 10)\n",
    "plt.plot(np.linspace(0, yr_13, 200), [bus_ts.loc['2013', 'q113'] * 30] * 200, color = 'r', label = 'bus')\n",
    "plt.plot(np.linspace(yr_13, yr_13 + yr_14, 200), [bus_ts.loc['2014', 'q113'] * 30] * 200, color = 'r')\n",
    "plt.plot(np.linspace(yr_13 + yr_14, yr_13 + yr_14 + yr_15, 200), [bus_ts.loc['2015', 'q113'] * 30] * 200, color = 'r')\n",
    "\n",
    "#plt.xlim(0,30)\n",
    "plt.xticks([])\n",
    "plt.legend()\n",
    "plt.title('data on bus route q113')\n",
    "plt.savefig('q113')"
   ]
  }
 ],
 "metadata": {
  "kernelspec": {
   "display_name": "Python [Root]",
   "language": "python",
   "name": "Python [Root]"
  },
  "language_info": {
   "codemirror_mode": {
    "name": "ipython",
    "version": 2
   },
   "file_extension": ".py",
   "mimetype": "text/x-python",
   "name": "python",
   "nbconvert_exporter": "python",
   "pygments_lexer": "ipython2",
   "version": "2.7.13"
  }
 },
 "nbformat": 4,
 "nbformat_minor": 0
}
